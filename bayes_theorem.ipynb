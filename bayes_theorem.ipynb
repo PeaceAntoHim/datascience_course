{
 "cells": [
  {
   "cell_type": "markdown",
   "id": "c2c42e47",
   "metadata": {},
   "source": [
    "# Bayes Theorem Example"
   ]
  },
  {
   "cell_type": "markdown",
   "id": "ab144406",
   "metadata": {},
   "source": [
    "Suppose a company produces light bulbs and has two factories, A and B. Factory A produces 60% of the bulbs, while factory B produces the remaining 40%. Of the bulbs produced by factory A, 95% are of good quality, while only 80% of the bulbs produced by factory B are of good quality. A customer buys a bulb at random and finds that it is of good quality. What is the probability that the bulb came from factory A?\n",
    "\n",
    "To solve this problem using Bayes' theorem, we can define the following probabilities:\n",
    "\n",
    "* P(A) = probability that the bulb came from factory A (0.6)\n",
    "* P(B) = probability that the bulb came from factory B (0.4)\n",
    "* P(G|A) = probability that the bulb is of good quality given that it came from factory A (0.95)\n",
    "* P(G|B) = probability that the bulb is of good quality given that it came from factory B (0.80)\n",
    "* P(G) = probability that the bulb is of good quality (unknown)\n",
    "\n",
    "Using Bayes' theorem, we can calculate the probability that the bulb came from factory A given that it is of good quality:\n",
    "\n",
    "P(A|G) = P(G|A) * P(A) / (P(G|A) * P(A) + P(G|B) * P(B))"
   ]
  },
  {
   "cell_type": "code",
   "execution_count": 1,
   "id": "15e614ff",
   "metadata": {},
   "outputs": [
    {
     "data": {
      "text/plain": [
       "0.6404494382022471"
      ]
     },
     "execution_count": 1,
     "metadata": {},
     "output_type": "execute_result"
    }
   ],
   "source": [
    "(0.95 * 0.6) / ((0.95 * 0.6) + (0.8 * 0.4))"
   ]
  },
  {
   "cell_type": "markdown",
   "id": "00dc557e",
   "metadata": {},
   "source": [
    "Therefore, the probability that the bulb came from factory A given that it is of good quality is approximately 0.64, or 64%. This means that it is more likely that the bulb came from factory A than from factory B."
   ]
  },
  {
   "cell_type": "code",
   "execution_count": null,
   "id": "a315aa32",
   "metadata": {},
   "outputs": [],
   "source": []
  }
 ],
 "metadata": {
  "kernelspec": {
   "display_name": "ds2",
   "language": "python",
   "name": "ds2"
  },
  "language_info": {
   "codemirror_mode": {
    "name": "ipython",
    "version": 3
   },
   "file_extension": ".py",
   "mimetype": "text/x-python",
   "name": "python",
   "nbconvert_exporter": "python",
   "pygments_lexer": "ipython3",
   "version": "3.7.10"
  }
 },
 "nbformat": 4,
 "nbformat_minor": 5
}
