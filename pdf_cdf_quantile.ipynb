{
 "cells": [
  {
   "cell_type": "code",
   "execution_count": 55,
   "id": "789dccb9",
   "metadata": {},
   "outputs": [],
   "source": [
    "import numpy as np\n",
    "from scipy.stats import beta\n",
    "from scipy.stats import norm\n",
    "import matplotlib.pyplot as plt"
   ]
  },
  {
   "cell_type": "markdown",
   "id": "663acb70",
   "metadata": {},
   "source": [
    "# Tools of Parameter Estimation: PDF, CDF, Quantile Function"
   ]
  },
  {
   "cell_type": "markdown",
   "id": "797f4a08",
   "metadata": {},
   "source": [
    "Estimating the Conversion Rate for an Email Signup List\n",
    "Say you run a blog and want to know the probability that a visitor to your blog will subscribe to your email list. In marketing terms, getting a user to perform a desired event is referred to as the conversion event, or simply a conversion, and the probability that a user will subscribe is the conversion rate.\n",
    "\n",
    "In the case of estimating the true conversion rate for your email list, let’s say for the first 40,000 visitors, you get 300 subscribers"
   ]
  },
  {
   "cell_type": "code",
   "execution_count": 35,
   "id": "77e3bfa9",
   "metadata": {},
   "outputs": [],
   "source": [
    "a, b = 300, 40000-300"
   ]
  },
  {
   "cell_type": "code",
   "execution_count": 39,
   "id": "a0d0481b",
   "metadata": {},
   "outputs": [
    {
     "data": {
      "text/plain": [
       "[<matplotlib.lines.Line2D at 0x7f89fd4b39d0>]"
      ]
     },
     "execution_count": 39,
     "metadata": {},
     "output_type": "execute_result"
    },
    {
     "data": {
      "image/png": "[encoded data removed]",
      "text/plain": [
       "<Figure size 432x288 with 1 Axes>"
      ]
     },
     "metadata": {
      "needs_background": "light"
     },
     "output_type": "display_data"
    }
   ],
   "source": [
    "x = np.arange(0.005, 0.01, 0.00001)\n",
    "plt.plot(x, beta.pdf(x, a, b),\n",
    "       'r-', lw=5, alpha=0.6, label='beta pdf')"
   ]
  },
  {
   "cell_type": "markdown",
   "id": "9b6a7021",
   "metadata": {},
   "source": [
    "The probability of the actual rate being lower than 0.0065"
   ]
  },
  {
   "cell_type": "code",
   "execution_count": 40,
   "id": "5520c2c9",
   "metadata": {},
   "outputs": [
    {
     "data": {
      "text/plain": [
       "0.007978686170755811"
      ]
     },
     "execution_count": 40,
     "metadata": {},
     "output_type": "execute_result"
    }
   ],
   "source": [
    "x = [0, 0.0065]\n",
    "lowb= beta.sf(x, a, b)[0] - beta.sf(x, a, b)[1] \n",
    "lowb"
   ]
  },
  {
   "cell_type": "markdown",
   "id": "079d309a",
   "metadata": {},
   "source": [
    "The probability of conversion rate being higher than expected (0.0085 or higher)"
   ]
  },
  {
   "cell_type": "code",
   "execution_count": 41,
   "id": "23d9a18a",
   "metadata": {},
   "outputs": [
    {
     "data": {
      "text/plain": [
       "0.01248151030103659"
      ]
     },
     "execution_count": 41,
     "metadata": {},
     "output_type": "execute_result"
    }
   ],
   "source": [
    "x = [0.0085, 1]\n",
    "highb = beta.sf(x, a, b)[0] - beta.sf(x, a, b)[1] \n",
    "highb"
   ]
  },
  {
   "cell_type": "code",
   "execution_count": 42,
   "id": "b348b7de",
   "metadata": {},
   "outputs": [
    {
     "data": {
      "text/plain": [
       "1.5643565912875392"
      ]
     },
     "execution_count": 42,
     "metadata": {},
     "output_type": "execute_result"
    }
   ],
   "source": [
    "ratio = highb/lowb\n",
    "ratio"
   ]
  },
  {
   "cell_type": "markdown",
   "id": "bcd9bb0c",
   "metadata": {},
   "source": [
    "50 percent more likely that our true conversion rate is greater than 0.0085 than that it’s lower than 0.0065."
   ]
  },
  {
   "cell_type": "markdown",
   "id": "1bf5da02",
   "metadata": {},
   "source": [
    "## Cumulative Distribution Function (CDF)\n",
    "\n",
    "The CDF takes in a value and returns the probability of getting that value or lower. For example, the CDF for Beta(300,397000) when x = 0.0065 is approximately 0.008. This means that the probability of the true conversion rate being 0.0065 or less is 0.008."
   ]
  },
  {
   "cell_type": "code",
   "execution_count": 43,
   "id": "7b469eb5",
   "metadata": {},
   "outputs": [
    {
     "data": {
      "text/plain": [
       "0.007978686170755788"
      ]
     },
     "execution_count": 43,
     "metadata": {},
     "output_type": "execute_result"
    }
   ],
   "source": [
    "beta.cdf(0.0065, 300, 39700)"
   ]
  },
  {
   "cell_type": "markdown",
   "id": "c3ec79ea",
   "metadata": {},
   "source": [
    "true probability that the conversion rate is greater than 0.0085, we can do the following:"
   ]
  },
  {
   "cell_type": "code",
   "execution_count": 47,
   "id": "3594ae8c",
   "metadata": {},
   "outputs": [
    {
     "data": {
      "text/plain": [
       "0.012481510301036614"
      ]
     },
     "execution_count": 47,
     "metadata": {},
     "output_type": "execute_result"
    }
   ],
   "source": [
    "beta.cdf(1, 300, 39700) - beta.cdf(0.0085, 300, 39700)"
   ]
  },
  {
   "cell_type": "markdown",
   "id": "11d5f99f",
   "metadata": {},
   "source": [
    "## Quantile Function for Beta distribution"
   ]
  },
  {
   "cell_type": "code",
   "execution_count": 49,
   "id": "b08dab1c",
   "metadata": {},
   "outputs": [
    {
     "data": {
      "text/plain": [
       "0.008903462119425339"
      ]
     },
     "execution_count": 49,
     "metadata": {},
     "output_type": "execute_result"
    }
   ],
   "source": [
    "beta.ppf(0.999, 300, 39700)"
   ]
  },
  {
   "cell_type": "markdown",
   "id": "73ff940b",
   "metadata": {},
   "source": [
    "99.9 percent certain that the true conversion rate for our emails is less than 0.0089"
   ]
  },
  {
   "cell_type": "markdown",
   "id": "4759b206",
   "metadata": {},
   "source": [
    "Finding 95% Confidence Interval"
   ]
  },
  {
   "cell_type": "code",
   "execution_count": 50,
   "id": "02160f00",
   "metadata": {},
   "outputs": [],
   "source": [
    "lower_bound = beta.ppf(0.025, 300, 39700)\n",
    "upper_bound = beta.ppf(0.975, 300, 39700)"
   ]
  },
  {
   "cell_type": "code",
   "execution_count": 51,
   "id": "21dbe36a",
   "metadata": {},
   "outputs": [
    {
     "data": {
      "text/plain": [
       "0.0066780740443999455"
      ]
     },
     "execution_count": 51,
     "metadata": {},
     "output_type": "execute_result"
    }
   ],
   "source": [
    "lower_bound"
   ]
  },
  {
   "cell_type": "code",
   "execution_count": 52,
   "id": "7d18c090",
   "metadata": {},
   "outputs": [
    {
     "data": {
      "text/plain": [
       "0.008368562363890978"
      ]
     },
     "execution_count": 52,
     "metadata": {},
     "output_type": "execute_result"
    }
   ],
   "source": [
    "upper_bound"
   ]
  },
  {
   "cell_type": "markdown",
   "id": "b2f0687d",
   "metadata": {},
   "source": [
    "Suppose an article on your blog goes viral and gets 100,000 visitors. Based on 95% confidence, we know that we should expect between 667 and 837 new email subscribers."
   ]
  },
  {
   "cell_type": "markdown",
   "id": "d7cd6f60",
   "metadata": {},
   "source": [
    "## You have the following measurements (in inches) of snowfall: \n",
    "## 7.8, 9.4, 10.0, 7.9, 9.4, 7.0, 7.0, 7.1, 8.9, 7.4\n",
    "## What is your 99.9 percent confidence interval for the true value of snowfall?"
   ]
  },
  {
   "cell_type": "markdown",
   "id": "f23d969a",
   "metadata": {},
   "source": [
    "vals = np.array([7.8, 9.4, 10.0, 7.9, 9.4, 7.0, 7.0, 7.1, 8.9, 7.4])\n",
    "mu = vals.mean()\n",
    "sigma = vals.std(ddof=1)   # this argument is required to achieve same results as in R, since we are calculating sd for samples\n",
    "                           # and not for the population - by default ddof is 0 and it is calculating sd for population"
   ]
  },
  {
   "cell_type": "code",
   "execution_count": 57,
   "id": "629ff20e",
   "metadata": {},
   "outputs": [],
   "source": [
    "lower = norm.ppf(0.0005, loc=mu, scale=sigma)\n",
    "upper = norm.ppf(0.9995, loc=mu, scale=sigma)"
   ]
  },
  {
   "cell_type": "code",
   "execution_count": 58,
   "id": "4d213a09",
   "metadata": {},
   "outputs": [
    {
     "data": {
      "text/plain": [
       "4.456061591417175"
      ]
     },
     "execution_count": 58,
     "metadata": {},
     "output_type": "execute_result"
    }
   ],
   "source": [
    "lower"
   ]
  },
  {
   "cell_type": "code",
   "execution_count": 59,
   "id": "f153cfba",
   "metadata": {},
   "outputs": [
    {
     "data": {
      "text/plain": [
       "11.923938408582863"
      ]
     },
     "execution_count": 59,
     "metadata": {},
     "output_type": "execute_result"
    }
   ],
   "source": [
    "upper"
   ]
  },
  {
   "cell_type": "markdown",
   "id": "26f55c88",
   "metadata": {},
   "source": [
    "## A child is going door to door selling candy bars. So far she has visited 30 houses and sold 10 candy bars. She will visit 40 more houses today. What is the 95 percent confidence interval for how many candy bars she will sell the rest of the day?"
   ]
  },
  {
   "cell_type": "code",
   "execution_count": 60,
   "id": "ce36bfed",
   "metadata": {},
   "outputs": [],
   "source": [
    "a, b = 10, 20"
   ]
  },
  {
   "cell_type": "code",
   "execution_count": 61,
   "id": "7c1b4861",
   "metadata": {},
   "outputs": [],
   "source": [
    "upper = beta.ppf(0.975, a, b)\n",
    "lower = beta.ppf(0.025, a, b)"
   ]
  },
  {
   "cell_type": "code",
   "execution_count": 65,
   "id": "87eb9e58",
   "metadata": {},
   "outputs": [
    {
     "data": {
      "text/plain": [
       "7.175345969404473"
      ]
     },
     "execution_count": 65,
     "metadata": {},
     "output_type": "execute_result"
    }
   ],
   "source": [
    "lower * 40"
   ]
  },
  {
   "cell_type": "code",
   "execution_count": 64,
   "id": "6241330e",
   "metadata": {},
   "outputs": [
    {
     "data": {
      "text/plain": [
       "20.332934152399602"
      ]
     },
     "execution_count": 64,
     "metadata": {},
     "output_type": "execute_result"
    }
   ],
   "source": [
    "upper * 40"
   ]
  },
  {
   "cell_type": "markdown",
   "id": "65cd8347",
   "metadata": {},
   "source": [
    "She should expect to sell between 7 and 20 candy bars"
   ]
  },
  {
   "cell_type": "code",
   "execution_count": null,
   "id": "46cdb200",
   "metadata": {},
   "outputs": [],
   "source": []
  }
 ],
 "metadata": {
  "kernelspec": {
   "display_name": "ds2",
   "language": "python",
   "name": "ds2"
  },
  "language_info": {
   "codemirror_mode": {
    "name": "ipython",
    "version": 3
   },
   "file_extension": ".py",
   "mimetype": "text/x-python",
   "name": "python",
   "nbconvert_exporter": "python",
   "pygments_lexer": "ipython3",
   "version": "3.7.10"
  }
 },
 "nbformat": 4,
 "nbformat_minor": 5
}
